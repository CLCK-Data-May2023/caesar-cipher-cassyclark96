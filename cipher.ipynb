{
 "cells": [
  {
   "cell_type": "code",
   "execution_count": 1,
   "metadata": {},
   "outputs": [
    {
     "name": "stdout",
     "output_type": "stream",
     "text": [
      "Please enter a sentence: python is fun!\n",
      "The encrypted sentence is:   udymts nx kzs!\n"
     ]
    }
   ],
   "source": [
    "letters = \"abcdefghijklmnopqrstuvwxyz\"\n",
    "\n",
    "#function to shift letters in original message over 5 spaces\n",
    "def encrypt(sentence, shift):\n",
    "\n",
    "    encrypted_sentence = \" \"\n",
    "\n",
    "    for letter in sentence:\n",
    "        if letter in letters:\n",
    "            index = letters.index(letter)\n",
    "            shifted_index = (index + shift) % len(letters)\n",
    "            encrypted_sentence += letters[shifted_index]\n",
    "        else:\n",
    "            encrypted_sentence += letter\n",
    "\n",
    "    return encrypted_sentence\n",
    "\n",
    "shift = 5\n",
    "input_sentence = input(\"Please enter a sentence: \")\n",
    "encrypted_sentence = encrypt(input_sentence.lower(), shift)\n",
    "\n",
    "print(\"The encrypted sentence is: \", encrypted_sentence)"
   ]
  },
  {
   "cell_type": "code",
   "execution_count": null,
   "metadata": {},
   "outputs": [],
   "source": []
  }
 ],
 "metadata": {
  "kernelspec": {
   "display_name": "Python 3",
   "language": "python",
   "name": "python3"
  },
  "language_info": {
   "codemirror_mode": {
    "name": "ipython",
    "version": 3
   },
   "file_extension": ".py",
   "mimetype": "text/x-python",
   "name": "python",
   "nbconvert_exporter": "python",
   "pygments_lexer": "ipython3",
   "version": "3.8.3"
  }
 },
 "nbformat": 4,
 "nbformat_minor": 4
}
